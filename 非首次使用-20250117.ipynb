{
 "cells": [
  {
   "cell_type": "markdown",
   "metadata": {
    "execution": {
     "iopub.execute_input": "2024-11-23T02:36:17.357361Z",
     "iopub.status.busy": "2024-11-23T02:36:17.356865Z",
     "iopub.status.idle": "2024-11-23T02:36:17.366259Z",
     "shell.execute_reply": "2024-11-23T02:36:17.364705Z",
     "shell.execute_reply.started": "2024-11-23T02:36:17.357325Z"
    },
    "id": "b0l1XyK1anMa"
   },
   "source": [
    "# 目錄\n",
    "\n",
    "## 自我介紹\n",
    "- 哈嘍大家好我是凱文\n",
    "- 這是我的YouTube頻道： https://www.youtube.com/@aidiffusion99\n",
    "- 歡迎訂閱留言！\n",
    "\n",
    "  \n",
    "## 本次代碼實現的內容：\n",
    "1. **如何使用混元模型生成人物一致性視頻 （Huyuan + Lora + TeaCache加速）**\n",
    "2. **如何使用谷歌雲**\n",
    "3. 本次視頻地址：\n",
    "\n"
   ]
  },
  {
   "cell_type": "markdown",
   "metadata": {
    "id": "DGdy43fTanMc"
   },
   "source": [
    "啟動ComfyUI網頁\n",
    "\n",
    "- 當你看到下面的顯示就表示已經成功啟動了\n",
    "> Starting server, To see the GUI go to: ttp://127.0.0.1:xxxx"
   ]
  },
  {
   "cell_type": "code",
   "execution_count": null,
   "metadata": {
    "id": "f9l1m-MPanMc",
    "tags": []
   },
   "outputs": [],
   "source": [
    "import subprocess\n",
    "import os\n",
    "from os import path\n",
    "import warnings\n",
    "from IPython.display import clear_output\n",
    "warnings.filterwarnings('ignore')\n",
    "from multiprocessing import Process\n",
    "import sys\n",
    "import time\n",
    "\n",
    "\n",
    "BASE = '/home/jupyter'\n",
    "\n",
    "\n",
    "def run_app():\n",
    "    cmd = f\"python {BASE}/ComfyUI/main.py & ssh -o StrictHostKeyChecking=no -p 80 -R0:localhost:8188 a.pinggy.io > log.txt\"\n",
    "    get_ipython().system(cmd)\n",
    "\n",
    "def print_url():\n",
    "    print(\"waiting for output\")\n",
    "    time.sleep(2)\n",
    "    sys.stdout.flush()\n",
    "\n",
    "    found = False\n",
    "    with open('log.txt', 'r') as file:\n",
    "        end_word = '.pinggy.link'\n",
    "        for line in file:\n",
    "            start_index = line.find(\"http:\")\n",
    "            if start_index != -1:\n",
    "                end_index = line.find(end_word, start_index)\n",
    "                if end_index != -1:\n",
    "                    print(\"😁 😁 😁\")\n",
    "                    print(\"URL: \" + line[start_index:end_index + len(end_word)])\n",
    "                    print(\"😁 😁 😁\")\n",
    "                    found = True\n",
    "    if not found:\n",
    "        print_url()\n",
    "    else:\n",
    "        with open('log.txt', 'r') as file:\n",
    "            for line in file:\n",
    "                print(line)\n",
    "\n",
    "p_app = Process(target=run_app)\n",
    "p_url = Process(target=print_url)\n",
    "p_app.start()\n",
    "p_url.start()\n",
    "p_app.join()\n",
    "p_url.join()"
   ]
  },
  {
   "cell_type": "code",
   "execution_count": null,
   "metadata": {},
   "outputs": [],
   "source": []
  }
 ],
 "metadata": {
  "colab": {
   "provenance": []
  },
  "environment": {
   "kernel": "conda-base-py",
   "name": "workbench-notebooks.m127",
   "type": "gcloud",
   "uri": "us-docker.pkg.dev/deeplearning-platform-release/gcr.io/workbench-notebooks:m127"
  },
  "kaggle": {
   "accelerator": "nvidiaTeslaT4",
   "dataSources": [],
   "dockerImageVersionId": 30787,
   "isGpuEnabled": true,
   "isInternetEnabled": true,
   "language": "python",
   "sourceType": "notebook"
  },
  "kernelspec": {
   "display_name": "Python 3 (ipykernel) (Local)",
   "language": "python",
   "name": "conda-base-py"
  },
  "language_info": {
   "codemirror_mode": {
    "name": "ipython",
    "version": 3
   },
   "file_extension": ".py",
   "mimetype": "text/x-python",
   "name": "python",
   "nbconvert_exporter": "python",
   "pygments_lexer": "ipython3",
   "version": "3.10.16"
  }
 },
 "nbformat": 4,
 "nbformat_minor": 4
}
