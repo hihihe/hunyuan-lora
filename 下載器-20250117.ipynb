{
 "cells": [
  {
   "cell_type": "markdown",
   "metadata": {
    "execution": {
     "iopub.execute_input": "2024-11-23T02:36:17.357361Z",
     "iopub.status.busy": "2024-11-23T02:36:17.356865Z",
     "iopub.status.idle": "2024-11-23T02:36:17.366259Z",
     "shell.execute_reply": "2024-11-23T02:36:17.364705Z",
     "shell.execute_reply.started": "2024-11-23T02:36:17.357325Z"
    },
    "id": "b0l1XyK1anMa"
   },
   "source": [
    "# 目錄\n",
    "\n",
    "## 自我介紹\n",
    "- 哈嘍大家好我是凱文\n",
    "- 這是我的YouTube頻道： https://www.youtube.com/@aidiffusion99\n",
    "- 歡迎訂閱留言！\n",
    "\n",
    "  \n",
    "## 本次代碼實現的內容：\n",
    "1. **如何使用混元模型生成人物一致性視頻 （Huyuan + Lora + TeaCache加速）**\n",
    "2. **如何使用谷歌雲**\n",
    "3. 本次視頻地址："
   ]
  },
  {
   "cell_type": "markdown",
   "metadata": {
    "id": "QwCQcjY0anMb"
   },
   "source": [
    "# 第一步：拷貝civitai網站的token"
   ]
  },
  {
   "cell_type": "code",
   "execution_count": null,
   "metadata": {
    "id": "hrzfJKP6anMb",
    "tags": []
   },
   "outputs": [],
   "source": [
    "###### 把你Civitai的網站token拷貝下下面\n",
    "##### 這一步必須要設置，否則無法從Civitai下載模型\n",
    "CIVITAI_TOEKN = \"a85ec0b23dc193d17307ea2898cb8f6a\"\n",
    "\n",
    "\n",
    "\n",
    "import subprocess\n",
    "import os\n",
    "from os import path\n",
    "import warnings\n",
    "from IPython.display import clear_output\n",
    "warnings.filterwarnings('ignore')\n",
    "from multiprocessing import Process\n",
    "import sys\n",
    "import time\n",
    "BASE = \"/home/jupyter\"\n",
    "\n",
    "def download_from_civitai(url, folder, name):\n",
    "    tok = CIVITAI_TOEKN\n",
    "    model_url = f\"{url}&token={tok}\"\n",
    "    save_path = f\"{BASE}/ComfyUI/models/{folder}/{name}\"\n",
    "    get_ipython().system(f'wget -O \"{save_path}\" \"{model_url}\"')\n",
    "    print(f\"文件： {name}\")\n",
    "    print(\"下載完成✅\")\n",
    "    %cd $BASE\n",
    "    \n",
    "def install_plg(git_url):\n",
    "    %cd $BASE/ComfyUI/custom_nodes\n",
    "    !git clone $git_url\n",
    "    print(\"下載完成✅\")\n",
    "    %cd $BASE\n",
    "    \n",
    "print(\"第一步已完成 ✅, Civitai token: \", CIVITAI_TOEKN)"
   ]
  },
  {
   "cell_type": "markdown",
   "metadata": {
    "id": "9xeDwg3DanMc"
   },
   "source": [
    "# 第二步： 下載loras, clip, checkpoints 。。。。。。"
   ]
  },
  {
   "cell_type": "code",
   "execution_count": null,
   "metadata": {
    "id": "CYmuO70UkzjX"
   },
   "outputs": [],
   "source": [
    "## 1. 下載lora文件\n",
    "\n",
    "## 下載連結\n",
    "url = \"https://civitai.com/api/download/models/1274571?type=Model&format=SafeTensor\"\n",
    "\n",
    "## 下載到loras文件夾\n",
    "folder = \"loras\"\n",
    "\n",
    "## 文件的名字，必須.safetensors結尾\n",
    "name = \"Lisa_62.safetensors\"\n",
    "\n",
    "download_from_civitai(url, folder, name)"
   ]
  },
  {
   "cell_type": "code",
   "execution_count": null,
   "metadata": {},
   "outputs": [],
   "source": []
  }
 ],
 "metadata": {
  "colab": {
   "provenance": []
  },
  "environment": {
   "kernel": "conda-base-py",
   "name": "workbench-notebooks.m127",
   "type": "gcloud",
   "uri": "us-docker.pkg.dev/deeplearning-platform-release/gcr.io/workbench-notebooks:m127"
  },
  "kaggle": {
   "accelerator": "nvidiaTeslaT4",
   "dataSources": [],
   "dockerImageVersionId": 30787,
   "isGpuEnabled": true,
   "isInternetEnabled": true,
   "language": "python",
   "sourceType": "notebook"
  },
  "kernelspec": {
   "display_name": "Python 3 (ipykernel) (Local)",
   "language": "python",
   "name": "conda-base-py"
  },
  "language_info": {
   "codemirror_mode": {
    "name": "ipython",
    "version": 3
   },
   "file_extension": ".py",
   "mimetype": "text/x-python",
   "name": "python",
   "nbconvert_exporter": "python",
   "pygments_lexer": "ipython3",
   "version": "3.10.16"
  }
 },
 "nbformat": 4,
 "nbformat_minor": 4
}
